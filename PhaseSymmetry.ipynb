{
 "cells": [
  {
   "cell_type": "code",
   "execution_count": 1,
   "metadata": {},
   "outputs": [
    {
     "name": "stdout",
     "output_type": "stream",
     "text": [
      "Requirement already satisfied: itk-phasesymmetry in /home/matt/bin/venvs/noaa-seals-pgl6GnIF/lib/python3.6/site-packages (1.0.2)\n",
      "Requirement already satisfied: itk-anisotropicdiffusionlbr in /home/matt/bin/venvs/noaa-seals-pgl6GnIF/lib/python3.6/site-packages (1.0.1)\n",
      "Requirement already satisfied: plotly in /home/matt/bin/venvs/noaa-seals-pgl6GnIF/lib/python3.6/site-packages (3.4.2)\n",
      "Requirement already satisfied: itk>=5.0b01 in /home/matt/bin/venvs/noaa-seals-pgl6GnIF/lib/python3.6/site-packages (from itk-phasesymmetry) (5.0b1)\n",
      "Requirement already satisfied: decorator>=4.0.6 in /home/matt/bin/venvs/noaa-seals-pgl6GnIF/lib/python3.6/site-packages (from plotly) (4.3.0)\n",
      "Requirement already satisfied: nbformat>=4.2 in /home/matt/bin/venvs/noaa-seals-pgl6GnIF/lib/python3.6/site-packages (from plotly) (4.4.0)\n",
      "Requirement already satisfied: requests in /home/matt/bin/venvs/noaa-seals-pgl6GnIF/lib/python3.6/site-packages (from plotly) (2.21.0)\n",
      "Requirement already satisfied: six in /home/matt/bin/venvs/noaa-seals-pgl6GnIF/lib/python3.6/site-packages (from plotly) (1.11.0)\n",
      "Requirement already satisfied: pytz in /home/matt/bin/venvs/noaa-seals-pgl6GnIF/lib/python3.6/site-packages (from plotly) (2018.7)\n",
      "Requirement already satisfied: retrying>=1.3.3 in /home/matt/bin/venvs/noaa-seals-pgl6GnIF/lib/python3.6/site-packages (from plotly) (1.3.3)\n",
      "Requirement already satisfied: itk-core>=5.0b1 in /home/matt/bin/venvs/noaa-seals-pgl6GnIF/lib/python3.6/site-packages (from itk>=5.0b01->itk-phasesymmetry) (5.0b1)\n",
      "Requirement already satisfied: itk-numerics>=5.0b1 in /home/matt/bin/venvs/noaa-seals-pgl6GnIF/lib/python3.6/site-packages (from itk>=5.0b01->itk-phasesymmetry) (5.0b1)\n",
      "Requirement already satisfied: itk-segmentation>=5.0b1 in /home/matt/bin/venvs/noaa-seals-pgl6GnIF/lib/python3.6/site-packages (from itk>=5.0b01->itk-phasesymmetry) (5.0b1)\n",
      "Requirement already satisfied: itk-io>=5.0b1 in /home/matt/bin/venvs/noaa-seals-pgl6GnIF/lib/python3.6/site-packages (from itk>=5.0b01->itk-phasesymmetry) (5.0b1)\n",
      "Requirement already satisfied: itk-registration>=5.0b1 in /home/matt/bin/venvs/noaa-seals-pgl6GnIF/lib/python3.6/site-packages (from itk>=5.0b01->itk-phasesymmetry) (5.0b1)\n",
      "Requirement already satisfied: itk-filtering>=5.0b1 in /home/matt/bin/venvs/noaa-seals-pgl6GnIF/lib/python3.6/site-packages (from itk>=5.0b01->itk-phasesymmetry) (5.0b1)\n",
      "Requirement already satisfied: numpy in /home/matt/bin/venvs/noaa-seals-pgl6GnIF/lib/python3.6/site-packages (from itk>=5.0b01->itk-phasesymmetry) (1.15.4)\n",
      "Requirement already satisfied: ipython-genutils in /home/matt/bin/venvs/noaa-seals-pgl6GnIF/lib/python3.6/site-packages (from nbformat>=4.2->plotly) (0.2.0)\n",
      "Requirement already satisfied: jupyter-core in /home/matt/bin/venvs/noaa-seals-pgl6GnIF/lib/python3.6/site-packages (from nbformat>=4.2->plotly) (4.4.0)\n",
      "Requirement already satisfied: traitlets>=4.1 in /home/matt/bin/venvs/noaa-seals-pgl6GnIF/lib/python3.6/site-packages (from nbformat>=4.2->plotly) (4.3.2)\n",
      "Requirement already satisfied: jsonschema!=2.5.0,>=2.4 in /home/matt/bin/venvs/noaa-seals-pgl6GnIF/lib/python3.6/site-packages (from nbformat>=4.2->plotly) (2.6.0)\n",
      "Requirement already satisfied: idna<2.9,>=2.5 in /home/matt/bin/venvs/noaa-seals-pgl6GnIF/lib/python3.6/site-packages (from requests->plotly) (2.8)\n",
      "Requirement already satisfied: chardet<3.1.0,>=3.0.2 in /home/matt/bin/venvs/noaa-seals-pgl6GnIF/lib/python3.6/site-packages (from requests->plotly) (3.0.4)\n",
      "Requirement already satisfied: urllib3<1.25,>=1.21.1 in /home/matt/bin/venvs/noaa-seals-pgl6GnIF/lib/python3.6/site-packages (from requests->plotly) (1.24.1)\n",
      "Requirement already satisfied: certifi>=2017.4.17 in /home/matt/bin/venvs/noaa-seals-pgl6GnIF/lib/python3.6/site-packages (from requests->plotly) (2018.11.29)\n"
     ]
    }
   ],
   "source": [
    "import sys\n",
    "!{sys.executable} -m pip install itk-phasesymmetry itk-anisotropicdiffusionlbr plotly"
   ]
  },
  {
   "cell_type": "code",
   "execution_count": 1,
   "metadata": {},
   "outputs": [],
   "source": [
    "import itk\n",
    "from itkwidgets import view, line_profile\n",
    "import ipywidgets as widgets\n",
    "from ipywidgets import interactive\n",
    "import numpy as np"
   ]
  },
  {
   "cell_type": "code",
   "execution_count": 2,
   "metadata": {},
   "outputs": [],
   "source": [
    "color = itk.imread('0/CHESS_FL12_C_160421_215351.941_COLOR-8-BIT.JPG')"
   ]
  },
  {
   "cell_type": "code",
   "execution_count": 3,
   "metadata": {},
   "outputs": [
    {
     "data": {
      "application/vnd.jupyter.widget-view+json": {
       "model_id": "1af9d21401a4442c9c63d2ee6463eb1e",
       "version_major": 2,
       "version_minor": 0
      },
      "text/plain": [
       "Viewer(gradient_opacity=0.22, rendered_image=<itkImagePython.itkImageRGBUC2; proxy of <Swig Object of type 'it…"
      ]
     },
     "metadata": {},
     "output_type": "display_data"
    }
   ],
   "source": [
    "viewer = view(color)\n",
    "viewer"
   ]
  },
  {
   "cell_type": "code",
   "execution_count": 4,
   "metadata": {},
   "outputs": [],
   "source": [
    "thermal = itk.imread('0/CHESS_FL12_C_160421_215351.941_THERM-16BIT.PNG', itk.F)"
   ]
  },
  {
   "cell_type": "code",
   "execution_count": 5,
   "metadata": {},
   "outputs": [
    {
     "data": {
      "application/vnd.jupyter.widget-view+json": {
       "model_id": "931b7ded4c894c94b6f562a3e851f0bb",
       "version_major": 2,
       "version_minor": 0
      },
      "text/plain": [
       "Viewer(gradient_opacity=0.22, rendered_image=<itkImagePython.itkImageF2; proxy of <Swig Object of type 'itkIma…"
      ]
     },
     "metadata": {},
     "output_type": "display_data"
    }
   ],
   "source": [
    "view(thermal)"
   ]
  },
  {
   "cell_type": "code",
   "execution_count": 6,
   "metadata": {},
   "outputs": [
    {
     "data": {
      "application/vnd.jupyter.widget-view+json": {
       "model_id": "341aadbc892f49f58f47ea6938703d97",
       "version_major": 2,
       "version_minor": 0
      },
      "text/plain": [
       "VBox(children=(VBox(children=(LineProfiler(interpolation=False, mode='z', rendered_image=<itkImagePython.itkIm…"
      ]
     },
     "metadata": {},
     "output_type": "display_data"
    }
   ],
   "source": [
    "diffusion_filter = itk.CoherenceEnhancingDiffusionImageFilter.New(thermal)\n",
    "diffusion_filter.SetEnhancement(3)\n",
    "diffusion_filter.Update()\n",
    "\n",
    "viewer = line_profile(diffusion_filter.GetOutput(), interpolation=False)\n",
    "\n",
    "def smooth(diffusion_time=1.0, lambda_=0.05, noise_scale=0.5, feature_scale=2.0):\n",
    "    diffusion_filter.SetDiffusionTime(diffusion_time)\n",
    "    diffusion_filter.SetLambda(lambda_)\n",
    "    diffusion_filter.SetNoiseScale(noise_scale)\n",
    "    diffusion_filter.SetFeatureScale(feature_scale)\n",
    "    diffusion_filter.Update()\n",
    "    viewer.image = diffusion_filter.GetOutput()\n",
    "    \n",
    "smoother_ui = interactive(smooth, \n",
    "                          diffusion_time=(0.1, 10, 0.5),\n",
    "                          lambda_=(0.0001, 0.1, 0.001),\n",
    "                          noise_scale=(0.2, 5.0, 0.1),\n",
    "                          feature_scale=(2.0, 6.0, 0.2))\n",
    "widgets.VBox([viewer, smoother_ui])"
   ]
  },
  {
   "cell_type": "code",
   "execution_count": 7,
   "metadata": {},
   "outputs": [
    {
     "name": "stdout",
     "output_type": "stream",
     "text": [
      "itkSize2 ([640, 512])\n"
     ]
    }
   ],
   "source": [
    "print(itk.size(thermal))"
   ]
  },
  {
   "cell_type": "code",
   "execution_count": 6,
   "metadata": {},
   "outputs": [
    {
     "name": "stdout",
     "output_type": "stream",
     "text": [
      "1.0\n"
     ]
    }
   ],
   "source": [
    "dimension = thermal.GetImageDimension()\n",
    "\n",
    "diffusion_filter = itk.CoherenceEnhancingDiffusionImageFilter.New(thermal)\n",
    "diffusion_filter.SetEnhancement(3)\n",
    "diffusion_filter.Update()\n",
    "\n",
    "phase_symmetry_filter = itk.PhaseSymmetryImageFilter.New(diffusion_filter.GetOutput())\n",
    "\n",
    "orientation_matrix = itk.Array2D[itk.D](2, dimension)\n",
    "np_array = np.array([1, 0, 0, 1], dtype=np.float64)\n",
    "vnl_vector = itk.GetVnlVectorFromArray(np_array)\n",
    "orientation_matrix.copy_in(vnl_vector.data_block())\n",
    "phase_symmetry_filter.SetOrientations(orientation_matrix)\n",
    "\n",
    "phase_symmetry_filter.SetSigma(0.25)\n",
    "phase_symmetry_filter.SetPolarity(0)\n",
    "phase_symmetry_filter.SetNoiseThreshold(15.0)\n",
    "print(diffusion_filter.GetDiffusionTime())"
   ]
  },
  {
   "cell_type": "code",
   "execution_count": 9,
   "metadata": {},
   "outputs": [
    {
     "data": {
      "application/vnd.jupyter.widget-view+json": {
       "model_id": "59beef420ad54b15a236a3d5bb75592c",
       "version_major": 2,
       "version_minor": 0
      },
      "text/plain": [
       "Viewer(gradient_opacity=0.22, rendered_image=<itkImagePython.itkImageF2; proxy of <Swig Object of type 'itkIma…"
      ]
     },
     "metadata": {},
     "output_type": "display_data"
    }
   ],
   "source": [
    "wavelengths = [2, 2, 4, 4, 6, 6, 8, 8, 12, 12, 16, 16]\n",
    "\n",
    "scales = len(wavelengths) / dimension\n",
    "wavelength_matrix = itk.Array2D[itk.D](int(scales), dimension)\n",
    "np_array = np.array(wavelengths, dtype=np.float64)\n",
    "vnl_vector = itk.GetVnlVectorFromArray(np_array)\n",
    "wavelength_matrix.copy_in(vnl_vector.data_block())\n",
    "phase_symmetry_filter.SetWavelengths(wavelength_matrix)\n",
    "\n",
    "phase_symmetry_filter.Initialize()\n",
    "phase_symmetry_filter.Update()\n",
    "flipper = itk.FlipImageFilter.New(phase_symmetry_filter)\n",
    "flipper.SetFlipAxes([True, True])\n",
    "flipper.Update()\n",
    "itk.imwrite(flipper, '0/thermal_phase_symmetry.mha')\n",
    "rescaler = itk.RescaleIntensityImageFilter[type(flipper.GetOutput()), itk.Image[itk.UC, dimension]].New(phase_symmetry_filter)\n",
    "itk.imwrite(rescaler, '0/thermal_phase_symmetry.png')\n",
    "view(flipper, ui_collapsed=True)"
   ]
  },
  {
   "cell_type": "code",
   "execution_count": 12,
   "metadata": {},
   "outputs": [
    {
     "data": {
      "application/vnd.jupyter.widget-view+json": {
       "model_id": "512cf87371554899b2a417cd8ae6ca80",
       "version_major": 2,
       "version_minor": 0
      },
      "text/plain": [
       "Viewer(gradient_opacity=0.22, rendered_image=<itkImagePython.itkImageF2; proxy of <Swig Object of type 'itkIma…"
      ]
     },
     "metadata": {},
     "output_type": "display_data"
    }
   ],
   "source": [
    "optical = itk.imread('0/CHESS_FL12_C_160421_215351.941_COLOR-8-BIT.JPG', itk.F)\n",
    "view(optical, ui_collapsed=True)"
   ]
  },
  {
   "cell_type": "code",
   "execution_count": 13,
   "metadata": {},
   "outputs": [
    {
     "name": "stdout",
     "output_type": "stream",
     "text": [
      "itkSize2 ([640, 512])\n",
      "itkSize2 ([6576, 4384])\n"
     ]
    }
   ],
   "source": [
    "print(itk.size(thermal))\n",
    "print(itk.size(optical))"
   ]
  },
  {
   "cell_type": "code",
   "execution_count": 14,
   "metadata": {},
   "outputs": [
    {
     "data": {
      "application/vnd.jupyter.widget-view+json": {
       "model_id": "dc80ac05759b41b1a667dec29057dc89",
       "version_major": 2,
       "version_minor": 0
      },
      "text/plain": [
       "Viewer(gradient_opacity=0.22, rendered_image=<itkImagePython.itkImageF2; proxy of <Swig Object of type 'itkIma…"
      ]
     },
     "metadata": {},
     "output_type": "display_data"
    }
   ],
   "source": [
    "shrink_factors = [10, 10]\n",
    "optical_shrunk = itk.bin_shrink_image_filter(optical, shrink_factors=shrink_factors)\n",
    "itk.imwrite(optical_shrunk, '0/optical_shrunk.mha')\n",
    "view(optical_shrunk)"
   ]
  },
  {
   "cell_type": "code",
   "execution_count": 15,
   "metadata": {},
   "outputs": [
    {
     "data": {
      "application/vnd.jupyter.widget-view+json": {
       "model_id": "e4f2043257774029bbac7d90ffad86b4",
       "version_major": 2,
       "version_minor": 0
      },
      "text/plain": [
       "VBox(children=(VBox(children=(LineProfiler(interpolation=False, mode='z', rendered_image=<itkImagePython.itkIm…"
      ]
     },
     "metadata": {},
     "output_type": "display_data"
    }
   ],
   "source": [
    "diffusion_filter = itk.CoherenceEnhancingDiffusionImageFilter.New(optical_shrunk)\n",
    "diffusion_filter.SetEnhancement(3)\n",
    "diffusion_filter.Update()\n",
    "\n",
    "viewer = line_profile(diffusion_filter.GetOutput(), interpolation=False)\n",
    "\n",
    "def smooth(diffusion_time=3.0, lambda_=0.05, noise_scale=0.5, feature_scale=2.0):\n",
    "    diffusion_filter.SetDiffusionTime(diffusion_time)\n",
    "    diffusion_filter.SetLambda(lambda_)\n",
    "    diffusion_filter.SetNoiseScale(noise_scale)\n",
    "    diffusion_filter.SetFeatureScale(feature_scale)\n",
    "    diffusion_filter.Update()\n",
    "    viewer.image = diffusion_filter.GetOutput()\n",
    "    \n",
    "smoother_ui = interactive(smooth, \n",
    "                          diffusion_time=(0.1, 10, 0.5),\n",
    "                          lambda_=(0.0001, 0.1, 0.001),\n",
    "                          noise_scale=(0.2, 5.0, 0.1),\n",
    "                          feature_scale=(2.0, 6.0, 0.2))\n",
    "widgets.VBox([viewer, smoother_ui])"
   ]
  },
  {
   "cell_type": "code",
   "execution_count": 16,
   "metadata": {},
   "outputs": [],
   "source": [
    "dimension = optical_shrunk.GetImageDimension()\n",
    "\n",
    "diffusion_filter = itk.CoherenceEnhancingDiffusionImageFilter.New(optical_shrunk)\n",
    "diffusion_filter.SetEnhancement(3)\n",
    "diffusion_filter.SetDiffusionTime(3.0)\n",
    "diffusion_filter.Update()\n",
    "smoothed = diffusion_filter.GetOutput()\n",
    "\n",
    "padded = itk.fft_pad_image_filter(smoothed)\n",
    "padded.DisconnectPipeline()\n",
    "# Bug! todo: fix me\n",
    "region = padded.GetBufferedRegion()\n",
    "region.SetIndex([0,0])\n",
    "padded.SetRegions(region)\n",
    "\n",
    "\n",
    "phase_symmetry_filter = itk.PhaseSymmetryImageFilter.New(padded)\n",
    "\n",
    "orientation_matrix = itk.Array2D[itk.D](2, dimension)\n",
    "np_array = np.array([1, 0, 0, 1], dtype=np.float64)\n",
    "vnl_vector = itk.GetVnlVectorFromArray(np_array)\n",
    "orientation_matrix.copy_in(vnl_vector.data_block())\n",
    "phase_symmetry_filter.SetOrientations(orientation_matrix)\n",
    "\n",
    "phase_symmetry_filter.SetSigma(0.25)\n",
    "phase_symmetry_filter.SetPolarity(0)\n",
    "phase_symmetry_filter.SetNoiseThreshold(30.0)"
   ]
  },
  {
   "cell_type": "code",
   "execution_count": 17,
   "metadata": {},
   "outputs": [
    {
     "data": {
      "application/vnd.jupyter.widget-view+json": {
       "model_id": "f5e8f8a028d8401f8d86b4a5b178447a",
       "version_major": 2,
       "version_minor": 0
      },
      "text/plain": [
       "Viewer(gradient_opacity=0.22, rendered_image=<itkImagePython.itkImageF2; proxy of <Swig Object of type 'itkIma…"
      ]
     },
     "metadata": {},
     "output_type": "display_data"
    }
   ],
   "source": [
    "wavelengths = [2, 2, 4, 4, 6, 6, 8, 8, 12, 12, 16, 16]\n",
    "\n",
    "scales = len(wavelengths) / dimension\n",
    "wavelength_matrix = itk.Array2D[itk.D](int(scales), dimension)\n",
    "np_array = np.array(wavelengths, dtype=np.float64)\n",
    "vnl_vector = itk.GetVnlVectorFromArray(np_array)\n",
    "wavelength_matrix.copy_in(vnl_vector.data_block())\n",
    "phase_symmetry_filter.SetWavelengths(wavelength_matrix)\n",
    "\n",
    "phase_symmetry_filter.Initialize()\n",
    "phase_symmetry_filter.UpdateLargestPossibleRegion()\n",
    "\n",
    "flipper = itk.FlipImageFilter.New(phase_symmetry_filter)\n",
    "flipper.SetFlipAxes([True, True])\n",
    "flipper.Update()\n",
    "itk.imwrite(flipper, '0/optical_phase_symmetry.mha')\n",
    "rescaler = itk.RescaleIntensityImageFilter[type(flipper.GetOutput()), itk.Image[itk.UC, dimension]].New(phase_symmetry_filter)\n",
    "itk.imwrite(rescaler, '0/optical_phase_symmetry.png')\n",
    "view(flipper, ui_collapsed=True)"
   ]
  },
  {
   "cell_type": "code",
   "execution_count": null,
   "metadata": {},
   "outputs": [],
   "source": []
  }
 ],
 "metadata": {
  "kernelspec": {
   "display_name": "Python 3",
   "language": "python",
   "name": "python3"
  },
  "language_info": {
   "codemirror_mode": {
    "name": "ipython",
    "version": 3
   },
   "file_extension": ".py",
   "mimetype": "text/x-python",
   "name": "python",
   "nbconvert_exporter": "python",
   "pygments_lexer": "ipython3",
   "version": "3.6.7"
  }
 },
 "nbformat": 4,
 "nbformat_minor": 2
}
